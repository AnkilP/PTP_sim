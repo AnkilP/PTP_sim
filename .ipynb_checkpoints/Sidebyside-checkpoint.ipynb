{
 "cells": [
  {
   "cell_type": "code",
   "execution_count": 2,
   "metadata": {},
   "outputs": [],
   "source": [
    "import cv2\n",
    "import matplotlib.pyplot as plt\n",
    "import os\n",
    "import time\n",
    "import numpy as np\n",
    "from os.path import isfile, join\n",
    "%matplotlib inline"
   ]
  },
  {
   "cell_type": "code",
   "execution_count": 3,
   "metadata": {},
   "outputs": [],
   "source": [
    "file_path = \"D:\\\\2011_09_26_drive_0001_extract\\\\2011_09_26\\\\2011_09_26_drive_0001_extract\\\\image_03\\\\data\\\\\"\n",
    "path, dirs, files = next(os.walk(file_path))\n",
    "#file_count = len(files)\n",
    "images = []\n",
    "for img in files:\n",
    "    images.append(cv2.imread(file_path+img))"
   ]
  },
  {
   "cell_type": "code",
   "execution_count": 4,
   "metadata": {},
   "outputs": [],
   "source": [
    "def simulate_image_stream(image, period):\n",
    "    time.sleep(period)\n",
    "    return image"
   ]
  },
  {
   "cell_type": "code",
   "execution_count": 4,
   "metadata": {},
   "outputs": [],
   "source": [
    "new_file_path = \"D:\\\\2011_09_26_drive_0001_extract\\\\2011_09_26\\\\2011_09_26_drive_0001_extract\\\\image_02\\\\data\\\\\"\n",
    "path2, dirs2, files2 = next(os.walk(new_file_path))\n",
    "new_images = []\n",
    "for img in files2:\n",
    "    new_images.append(cv2.imread(new_file_path+img))"
   ]
  },
  {
   "cell_type": "code",
   "execution_count": 5,
   "metadata": {},
   "outputs": [],
   "source": [
    "import pandas as pd"
   ]
  },
  {
   "cell_type": "code",
   "execution_count": 6,
   "metadata": {},
   "outputs": [],
   "source": [
    "time_stamp_file_path = \"D:\\\\2011_09_26_drive_0001_extract\\\\2011_09_26\\\\2011_09_26_drive_0001_extract\\\\image_03\\\\timestamps.txt\"\n",
    "df = pd.read_table(time_stamp_file_path, header=None)"
   ]
  },
  {
   "cell_type": "code",
   "execution_count": 11,
   "metadata": {},
   "outputs": [
    {
     "data": {
      "text/html": [
       "<div>\n",
       "<style scoped>\n",
       "    .dataframe tbody tr th:only-of-type {\n",
       "        vertical-align: middle;\n",
       "    }\n",
       "\n",
       "    .dataframe tbody tr th {\n",
       "        vertical-align: top;\n",
       "    }\n",
       "\n",
       "    .dataframe thead th {\n",
       "        text-align: right;\n",
       "    }\n",
       "</style>\n",
       "<table border=\"1\" class=\"dataframe\">\n",
       "  <thead>\n",
       "    <tr style=\"text-align: right;\">\n",
       "      <th></th>\n",
       "      <th>date</th>\n",
       "      <th>timestamps</th>\n",
       "    </tr>\n",
       "  </thead>\n",
       "  <tbody>\n",
       "    <tr>\n",
       "      <th>0</th>\n",
       "      <td>2011-09-26</td>\n",
       "      <td>13:02:25.445761280</td>\n",
       "    </tr>\n",
       "    <tr>\n",
       "      <th>1</th>\n",
       "      <td>2011-09-26</td>\n",
       "      <td>13:02:25.548891904</td>\n",
       "    </tr>\n",
       "    <tr>\n",
       "      <th>2</th>\n",
       "      <td>2011-09-26</td>\n",
       "      <td>13:02:25.651908608</td>\n",
       "    </tr>\n",
       "    <tr>\n",
       "      <th>3</th>\n",
       "      <td>2011-09-26</td>\n",
       "      <td>13:02:25.755030016</td>\n",
       "    </tr>\n",
       "    <tr>\n",
       "      <th>4</th>\n",
       "      <td>2011-09-26</td>\n",
       "      <td>13:02:25.858035712</td>\n",
       "    </tr>\n",
       "  </tbody>\n",
       "</table>\n",
       "</div>"
      ],
      "text/plain": [
       "         date          timestamps\n",
       "0  2011-09-26  13:02:25.445761280\n",
       "1  2011-09-26  13:02:25.548891904\n",
       "2  2011-09-26  13:02:25.651908608\n",
       "3  2011-09-26  13:02:25.755030016\n",
       "4  2011-09-26  13:02:25.858035712"
      ]
     },
     "execution_count": 11,
     "metadata": {},
     "output_type": "execute_result"
    }
   ],
   "source": [
    "df.head()"
   ]
  },
  {
   "cell_type": "code",
   "execution_count": 8,
   "metadata": {},
   "outputs": [],
   "source": [
    "df['date'], df['timestamps'] = df[0].str.split(' ', 1).str"
   ]
  },
  {
   "cell_type": "code",
   "execution_count": null,
   "metadata": {},
   "outputs": [],
   "source": []
  },
  {
   "cell_type": "code",
   "execution_count": 23,
   "metadata": {},
   "outputs": [],
   "source": [
    "data = []\n",
    "# data.insert(0, {'date': '2011-09-26', 'timestamps':'13:02:25.445761280'})"
   ]
  },
  {
   "cell_type": "code",
   "execution_count": 10,
   "metadata": {},
   "outputs": [],
   "source": [
    "df = df.drop(0, 1)"
   ]
  },
  {
   "cell_type": "code",
   "execution_count": 28,
   "metadata": {},
   "outputs": [],
   "source": [
    "timestamps = pd.to_timedelta(df['timestamps'], unit = 's')\n",
    "#print(timestamps)"
   ]
  },
  {
   "cell_type": "code",
   "execution_count": 31,
   "metadata": {},
   "outputs": [],
   "source": [
    "time_stamp_file_path2 = \"D:\\\\2011_09_26_drive_0001_extract\\\\2011_09_26\\\\2011_09_26_drive_0001_extract\\\\velodyne_points\\\\timestamps.txt\"\n",
    "df2 = pd.read_table(time_stamp_file_path2)\n",
    "df2['date'], df2['timestamps'] = df2['2011-09-26 13:02:25.745054743'].str.split(' ', 1).str\n",
    "df2 = df2.drop('2011-09-26 13:02:25.745054743', 1)\n",
    "data2 = []\n",
    "data2.insert(0, {'date': '2011-09-26', 'timestamps':'13:02:25.745054743'})\n",
    "df2 = pd.concat([pd.DataFrame(data2), df2], ignore_index=True)"
   ]
  },
  {
   "cell_type": "code",
   "execution_count": 32,
   "metadata": {},
   "outputs": [],
   "source": [
    "timestamps2 = pd.to_timedelta(df2['timestamps'], unit = 's')"
   ]
  },
  {
   "cell_type": "code",
   "execution_count": 33,
   "metadata": {},
   "outputs": [],
   "source": [
    "df2.head()\n",
    "difftimestamps = timestamps2 - timestamps"
   ]
  },
  {
   "cell_type": "code",
   "execution_count": 37,
   "metadata": {},
   "outputs": [
    {
     "data": {
      "text/plain": [
       "0     13:02:25.445761\n",
       "1     13:02:25.548891\n",
       "2     13:02:25.651908\n",
       "3     13:02:25.755030\n",
       "4     13:02:25.858035\n",
       "5     13:02:25.961178\n",
       "6     13:02:26.064301\n",
       "7     13:02:26.167304\n",
       "8     13:02:26.270440\n",
       "9     13:02:26.373451\n",
       "10    13:02:26.476574\n",
       "11    13:02:26.579583\n",
       "12    13:02:26.682725\n",
       "13    13:02:26.785721\n",
       "14    13:02:26.888851\n",
       "15    13:02:26.991984\n",
       "16    13:02:27.094990\n",
       "17    13:02:27.198148\n",
       "18    13:02:27.301142\n",
       "19    13:02:27.404264\n",
       "20    13:02:27.507402\n",
       "21    13:02:27.610524\n",
       "22    13:02:27.713542\n",
       "23    13:02:27.816672\n",
       "24    13:02:27.919803\n",
       "25    13:02:28.022801\n",
       "26    13:02:28.125934\n",
       "27    13:02:28.229070\n",
       "28    13:02:28.332194\n",
       "29    13:02:28.435339\n",
       "            ...      \n",
       "84    13:02:34.108444\n",
       "85    13:02:34.211585\n",
       "86    13:02:34.314830\n",
       "87    13:02:34.417974\n",
       "88    13:02:34.521218\n",
       "89    13:02:34.624352\n",
       "90    13:02:34.727617\n",
       "91    13:02:34.830875\n",
       "92    13:02:34.934007\n",
       "93    13:02:35.037252\n",
       "94    13:02:35.140510\n",
       "95    13:02:35.243644\n",
       "96    13:02:35.346910\n",
       "97    13:02:35.450041\n",
       "98    13:02:35.553286\n",
       "99    13:02:35.656431\n",
       "100   13:02:35.759678\n",
       "101   13:02:35.862816\n",
       "102   13:02:35.966062\n",
       "103   13:02:36.069330\n",
       "104   13:02:36.172450\n",
       "105   13:02:36.275708\n",
       "106   13:02:36.378843\n",
       "107   13:02:36.482096\n",
       "108   13:02:36.585237\n",
       "109   13:02:36.688366\n",
       "110   13:02:36.791627\n",
       "111   13:02:36.894748\n",
       "112   13:02:36.998005\n",
       "113   13:02:37.101134\n",
       "Name: timestamps, Length: 114, dtype: timedelta64[ns]"
      ]
     },
     "execution_count": 37,
     "metadata": {},
     "output_type": "execute_result"
    }
   ],
   "source": [
    "timestamps"
   ]
  },
  {
   "cell_type": "code",
   "execution_count": 38,
   "metadata": {},
   "outputs": [
    {
     "data": {
      "text/plain": [
       "0     13:02:25.745054\n",
       "1     13:02:25.848114\n",
       "2     13:02:25.951199\n",
       "3     13:02:26.054281\n",
       "4     13:02:26.157358\n",
       "5     13:02:26.260450\n",
       "6     13:02:26.363515\n",
       "7     13:02:26.466599\n",
       "8     13:02:26.569680\n",
       "9     13:02:26.672739\n",
       "10    13:02:26.775809\n",
       "11    13:02:26.878881\n",
       "12    13:02:26.981975\n",
       "13    13:02:27.085092\n",
       "14    13:02:27.188170\n",
       "15    13:02:27.291247\n",
       "16    13:02:27.394332\n",
       "17    13:02:27.497421\n",
       "18    13:02:27.600551\n",
       "19    13:02:27.703657\n",
       "20    13:02:27.806744\n",
       "21    13:02:27.909827\n",
       "22    13:02:28.012912\n",
       "23    13:02:28.116014\n",
       "24    13:02:28.219123\n",
       "25    13:02:28.322257\n",
       "26    13:02:28.425395\n",
       "27    13:02:28.528488\n",
       "28    13:02:28.631571\n",
       "29    13:02:28.734688\n",
       "            ...      \n",
       "81    13:02:34.098526\n",
       "82    13:02:34.201700\n",
       "83    13:02:34.304859\n",
       "84    13:02:34.408025\n",
       "85    13:02:34.511241\n",
       "86    13:02:34.614445\n",
       "87    13:02:34.717647\n",
       "88    13:02:34.820853\n",
       "89    13:02:34.924056\n",
       "90    13:02:35.027262\n",
       "91    13:02:35.130463\n",
       "92    13:02:35.233678\n",
       "93    13:02:35.336886\n",
       "94    13:02:35.440092\n",
       "95    13:02:35.543305\n",
       "96    13:02:35.646499\n",
       "97    13:02:35.749804\n",
       "98    13:02:35.853023\n",
       "99    13:02:35.956132\n",
       "100   13:02:36.059324\n",
       "101   13:02:36.162531\n",
       "102   13:02:36.265754\n",
       "103   13:02:36.368931\n",
       "104   13:02:36.472096\n",
       "105   13:02:36.575277\n",
       "106   13:02:36.678471\n",
       "107   13:02:36.781641\n",
       "108   13:02:36.884828\n",
       "109   13:02:36.988034\n",
       "110   13:02:37.091200\n",
       "Name: timestamps, Length: 111, dtype: timedelta64[ns]"
      ]
     },
     "execution_count": 38,
     "metadata": {},
     "output_type": "execute_result"
    }
   ],
   "source": [
    "timestamps2"
   ]
  },
  {
   "cell_type": "code",
   "execution_count": 34,
   "metadata": {},
   "outputs": [
    {
     "data": {
      "text/plain": [
       "[<matplotlib.lines.Line2D at 0x1fd71072b00>]"
      ]
     },
     "execution_count": 34,
     "metadata": {},
     "output_type": "execute_result"
    },
    {
     "data": {
      "image/png": "[encoded data removed]",
      "text/plain": [
       "<matplotlib.figure.Figure at 0x1fd70f440b8>"
      ]
     },
     "metadata": {},
     "output_type": "display_data"
    }
   ],
   "source": [
    "plt.plot(difftimestamps[:100].values)"
   ]
  },
  {
   "cell_type": "code",
   "execution_count": null,
   "metadata": {},
   "outputs": [],
   "source": [
    "newsy_time_stamp_file_path = \"D:\\\\2011_09_26_drive_0001_sync\\\\2011_09_26\\\\2011_09_26_drive_0001_sync\\\\image_02\\\\timestamps.txt\"\n",
    "df3 = pd.read_table(newsy_time_stamp_file_path)"
   ]
  },
  {
   "cell_type": "code",
   "execution_count": null,
   "metadata": {},
   "outputs": [],
   "source": [
    "df3['date'], df3['timestamps'] = df3['2011-09-26 13:02:25.961661696'].str.split(' ', 1).str\n",
    "df3 = df3.drop('2011-09-26 13:02:25.961661696', 1)\n",
    "data3 = []\n",
    "data3.insert(0, {'date': '2011-09-26', 'timestamps':'13:02:25.961661696'})\n",
    "df3 = pd.concat([pd.DataFrame(data3), df3], ignore_index=True)"
   ]
  },
  {
   "cell_type": "code",
   "execution_count": null,
   "metadata": {},
   "outputs": [],
   "source": [
    "df3.head()"
   ]
  },
  {
   "cell_type": "code",
   "execution_count": null,
   "metadata": {},
   "outputs": [],
   "source": [
    "timestamps3 = pd.to_timedelta(df3['timestamps'], unit = 's')"
   ]
  },
  {
   "cell_type": "code",
   "execution_count": null,
   "metadata": {},
   "outputs": [],
   "source": [
    "news_time_stamp_file_path = \"D:\\\\2011_09_26_drive_0001_sync\\\\2011_09_26\\\\2011_09_26_drive_0001_sync\\\\velodyne_points\\\\timestamps.txt\"\n",
    "df4 = pd.read_table(news_time_stamp_file_path)"
   ]
  },
  {
   "cell_type": "code",
   "execution_count": null,
   "metadata": {},
   "outputs": [],
   "source": [
    "df4['date'], df4['timestamps'] = df4['2011-09-26 13:02:25.951199337'].str.split(' ', 1).str\n",
    "df4 = df4.drop('2011-09-26 13:02:25.951199337', 1)\n",
    "data4 = []\n",
    "data4.insert(0, {'date': '2011-09-26', 'timestamps':'13:02:25.951199337'})\n",
    "df4 = pd.concat([pd.DataFrame(data4), df4], ignore_index=True)"
   ]
  },
  {
   "cell_type": "code",
   "execution_count": 8,
   "metadata": {},
   "outputs": [
    {
     "ename": "NameError",
     "evalue": "name 'df4' is not defined",
     "output_type": "error",
     "traceback": [
      "\u001b[1;31m---------------------------------------------------------------------------\u001b[0m",
      "\u001b[1;31mNameError\u001b[0m                                 Traceback (most recent call last)",
      "\u001b[1;32m<ipython-input-8-b9e23aa6db1a>\u001b[0m in \u001b[0;36m<module>\u001b[1;34m()\u001b[0m\n\u001b[1;32m----> 1\u001b[1;33m \u001b[0mdf4\u001b[0m\u001b[1;33m.\u001b[0m\u001b[0mhead\u001b[0m\u001b[1;33m(\u001b[0m\u001b[1;33m)\u001b[0m\u001b[1;33m\u001b[0m\u001b[0m\n\u001b[0m",
      "\u001b[1;31mNameError\u001b[0m: name 'df4' is not defined"
     ]
    }
   ],
   "source": [
    "df4.head()"
   ]
  },
  {
   "cell_type": "code",
   "execution_count": null,
   "metadata": {},
   "outputs": [],
   "source": [
    "timestamps4 = pd.to_timedelta(df4['timestamps'], unit = 's')"
   ]
  },
  {
   "cell_type": "code",
   "execution_count": null,
   "metadata": {},
   "outputs": [],
   "source": [
    "difftimestamps2 = timestamps3 - timestamps4"
   ]
  },
  {
   "cell_type": "code",
   "execution_count": null,
   "metadata": {
    "scrolled": true
   },
   "outputs": [],
   "source": [
    "plt.plot(difftimestamps2[1:].values)"
   ]
  },
  {
   "cell_type": "code",
   "execution_count": null,
   "metadata": {},
   "outputs": [],
   "source": [
    "diffdiff = difftimestamps - difftimestamps2"
   ]
  },
  {
   "cell_type": "code",
   "execution_count": null,
   "metadata": {},
   "outputs": [],
   "source": [
    "plt.plot(diffdiff)"
   ]
  },
  {
   "cell_type": "code",
   "execution_count": null,
   "metadata": {},
   "outputs": [],
   "source": [
    "def greedy(timestamps_camera, timestamps_voelodyne):\n",
    "    index_matched_points = []\n",
    "    while timestamps  \n",
    "    \n",
    "    return index_matched_points\n",
    "\n"
   ]
  }
 ],
 "metadata": {
  "kernelspec": {
   "display_name": "Python 3",
   "language": "python",
   "name": "python3"
  },
  "language_info": {
   "codemirror_mode": {
    "name": "ipython",
    "version": 3
   },
   "file_extension": ".py",
   "mimetype": "text/x-python",
   "name": "python",
   "nbconvert_exporter": "python",
   "pygments_lexer": "ipython3",
   "version": "3.6.4"
  }
 },
 "nbformat": 4,
 "nbformat_minor": 2
}
