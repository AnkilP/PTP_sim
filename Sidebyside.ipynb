{
 "cells": [
  {
   "cell_type": "code",
   "execution_count": 2,
   "metadata": {},
   "outputs": [],
   "source": [
    "import cv2\n",
    "import matplotlib.pyplot as plt\n",
    "import os\n",
    "import time\n",
    "import numpy as np\n",
    "from os.path import isfile, join\n",
    "%matplotlib inline"
   ]
  },
  {
   "cell_type": "code",
   "execution_count": 4,
   "metadata": {},
   "outputs": [],
   "source": [
    "file_path = \"D:\\\\2011_09_26_drive_0001_extract\\\\2011_09_26\\\\2011_09_26_drive_0001_extract\\\\image_03\\\\data\\\\\"\n",
    "path, dirs, files = next(os.walk(file_path))\n",
    "#file_count = len(files)\n",
    "images = []\n",
    "for img in files:\n",
    "    images.append(cv2.imread(file_path+img))"
   ]
  },
  {
   "cell_type": "code",
   "execution_count": 2,
   "metadata": {},
   "outputs": [],
   "source": [
    "def simulate_image_stream(image, period):\n",
    "    time.sleep(period)\n",
    "    return image"
   ]
  },
  {
   "cell_type": "code",
   "execution_count": 10,
   "metadata": {},
   "outputs": [],
   "source": [
    "new_file_path = \"D:\\\\2011_09_26_drive_0001_extract\\\\2011_09_26\\\\2011_09_26_drive_0001_extract\\\\image_02\\\\data\\\\\"\n",
    "path2, dirs2, files2 = next(os.walk(new_file_path))\n",
    "new_images = []\n",
    "for img in files2:\n",
    "    new_images.append(cv2.imread(new_file_path+img))"
   ]
  },
  {
   "cell_type": "code",
   "execution_count": 3,
   "metadata": {},
   "outputs": [],
   "source": [
    "def convert_frames_to_video(pathIn,pathOut,fps):\n",
    "    frame_array = []\n",
    "    files = [f for f in os.listdir(pathIn) if isfile(join(pathIn, f))]\n",
    " \n",
    "    #for sorting the file names properly\n",
    "    files.sort(key = lambda x: int(x[5:-4]))\n",
    " \n",
    "    for i in range(len(files)):\n",
    "        filename=pathIn + files[i]\n",
    "        #reading each files\n",
    "        img = cv2.imread(filename)\n",
    "        height, width, layers = img.shape\n",
    "        size = (width,height)\n",
    "        print(filename)\n",
    "        #inserting the frames into an image array\n",
    "        frame_array.append(img)\n",
    " \n",
    "    out = cv2.VideoWriter(pathOut,cv2.VideoWriter_fourcc(*'DIVX'), fps, size)\n",
    " \n",
    "    for i in range(len(frame_array)):\n",
    "        # writing to a image array\n",
    "        out.write(frame_array[i])\n",
    "    out.release()"
   ]
  },
  {
   "cell_type": "code",
   "execution_count": 11,
   "metadata": {},
   "outputs": [
    {
     "name": "stdout",
     "output_type": "stream",
     "text": [
      "D:\\2011_09_26_drive_0001_extract\\2011_09_26\\2011_09_26_drive_0001_extract\\image_02\\data\\0000000000.png\n",
      "D:\\2011_09_26_drive_0001_extract\\2011_09_26\\2011_09_26_drive_0001_extract\\image_02\\data\\0000000001.png\n",
      "D:\\2011_09_26_drive_0001_extract\\2011_09_26\\2011_09_26_drive_0001_extract\\image_02\\data\\0000000002.png\n",
      "D:\\2011_09_26_drive_0001_extract\\2011_09_26\\2011_09_26_drive_0001_extract\\image_02\\data\\0000000003.png\n",
      "D:\\2011_09_26_drive_0001_extract\\2011_09_26\\2011_09_26_drive_0001_extract\\image_02\\data\\0000000004.png\n",
      "D:\\2011_09_26_drive_0001_extract\\2011_09_26\\2011_09_26_drive_0001_extract\\image_02\\data\\0000000005.png\n",
      "D:\\2011_09_26_drive_0001_extract\\2011_09_26\\2011_09_26_drive_0001_extract\\image_02\\data\\0000000006.png\n",
      "D:\\2011_09_26_drive_0001_extract\\2011_09_26\\2011_09_26_drive_0001_extract\\image_02\\data\\0000000007.png\n",
      "D:\\2011_09_26_drive_0001_extract\\2011_09_26\\2011_09_26_drive_0001_extract\\image_02\\data\\0000000008.png\n",
      "D:\\2011_09_26_drive_0001_extract\\2011_09_26\\2011_09_26_drive_0001_extract\\image_02\\data\\0000000009.png\n",
      "D:\\2011_09_26_drive_0001_extract\\2011_09_26\\2011_09_26_drive_0001_extract\\image_02\\data\\0000000010.png\n",
      "D:\\2011_09_26_drive_0001_extract\\2011_09_26\\2011_09_26_drive_0001_extract\\image_02\\data\\0000000011.png\n",
      "D:\\2011_09_26_drive_0001_extract\\2011_09_26\\2011_09_26_drive_0001_extract\\image_02\\data\\0000000012.png\n",
      "D:\\2011_09_26_drive_0001_extract\\2011_09_26\\2011_09_26_drive_0001_extract\\image_02\\data\\0000000013.png\n",
      "D:\\2011_09_26_drive_0001_extract\\2011_09_26\\2011_09_26_drive_0001_extract\\image_02\\data\\0000000014.png\n",
      "D:\\2011_09_26_drive_0001_extract\\2011_09_26\\2011_09_26_drive_0001_extract\\image_02\\data\\0000000015.png\n",
      "D:\\2011_09_26_drive_0001_extract\\2011_09_26\\2011_09_26_drive_0001_extract\\image_02\\data\\0000000016.png\n",
      "D:\\2011_09_26_drive_0001_extract\\2011_09_26\\2011_09_26_drive_0001_extract\\image_02\\data\\0000000017.png\n",
      "D:\\2011_09_26_drive_0001_extract\\2011_09_26\\2011_09_26_drive_0001_extract\\image_02\\data\\0000000018.png\n",
      "D:\\2011_09_26_drive_0001_extract\\2011_09_26\\2011_09_26_drive_0001_extract\\image_02\\data\\0000000019.png\n",
      "D:\\2011_09_26_drive_0001_extract\\2011_09_26\\2011_09_26_drive_0001_extract\\image_02\\data\\0000000020.png\n",
      "D:\\2011_09_26_drive_0001_extract\\2011_09_26\\2011_09_26_drive_0001_extract\\image_02\\data\\0000000021.png\n",
      "D:\\2011_09_26_drive_0001_extract\\2011_09_26\\2011_09_26_drive_0001_extract\\image_02\\data\\0000000022.png\n",
      "D:\\2011_09_26_drive_0001_extract\\2011_09_26\\2011_09_26_drive_0001_extract\\image_02\\data\\0000000023.png\n",
      "D:\\2011_09_26_drive_0001_extract\\2011_09_26\\2011_09_26_drive_0001_extract\\image_02\\data\\0000000024.png\n",
      "D:\\2011_09_26_drive_0001_extract\\2011_09_26\\2011_09_26_drive_0001_extract\\image_02\\data\\0000000025.png\n",
      "D:\\2011_09_26_drive_0001_extract\\2011_09_26\\2011_09_26_drive_0001_extract\\image_02\\data\\0000000026.png\n",
      "D:\\2011_09_26_drive_0001_extract\\2011_09_26\\2011_09_26_drive_0001_extract\\image_02\\data\\0000000027.png\n",
      "D:\\2011_09_26_drive_0001_extract\\2011_09_26\\2011_09_26_drive_0001_extract\\image_02\\data\\0000000028.png\n",
      "D:\\2011_09_26_drive_0001_extract\\2011_09_26\\2011_09_26_drive_0001_extract\\image_02\\data\\0000000029.png\n",
      "D:\\2011_09_26_drive_0001_extract\\2011_09_26\\2011_09_26_drive_0001_extract\\image_02\\data\\0000000030.png\n",
      "D:\\2011_09_26_drive_0001_extract\\2011_09_26\\2011_09_26_drive_0001_extract\\image_02\\data\\0000000031.png\n",
      "D:\\2011_09_26_drive_0001_extract\\2011_09_26\\2011_09_26_drive_0001_extract\\image_02\\data\\0000000032.png\n",
      "D:\\2011_09_26_drive_0001_extract\\2011_09_26\\2011_09_26_drive_0001_extract\\image_02\\data\\0000000033.png\n",
      "D:\\2011_09_26_drive_0001_extract\\2011_09_26\\2011_09_26_drive_0001_extract\\image_02\\data\\0000000034.png\n",
      "D:\\2011_09_26_drive_0001_extract\\2011_09_26\\2011_09_26_drive_0001_extract\\image_02\\data\\0000000035.png\n",
      "D:\\2011_09_26_drive_0001_extract\\2011_09_26\\2011_09_26_drive_0001_extract\\image_02\\data\\0000000036.png\n",
      "D:\\2011_09_26_drive_0001_extract\\2011_09_26\\2011_09_26_drive_0001_extract\\image_02\\data\\0000000037.png\n",
      "D:\\2011_09_26_drive_0001_extract\\2011_09_26\\2011_09_26_drive_0001_extract\\image_02\\data\\0000000038.png\n",
      "D:\\2011_09_26_drive_0001_extract\\2011_09_26\\2011_09_26_drive_0001_extract\\image_02\\data\\0000000039.png\n",
      "D:\\2011_09_26_drive_0001_extract\\2011_09_26\\2011_09_26_drive_0001_extract\\image_02\\data\\0000000040.png\n",
      "D:\\2011_09_26_drive_0001_extract\\2011_09_26\\2011_09_26_drive_0001_extract\\image_02\\data\\0000000041.png\n",
      "D:\\2011_09_26_drive_0001_extract\\2011_09_26\\2011_09_26_drive_0001_extract\\image_02\\data\\0000000042.png\n",
      "D:\\2011_09_26_drive_0001_extract\\2011_09_26\\2011_09_26_drive_0001_extract\\image_02\\data\\0000000043.png\n",
      "D:\\2011_09_26_drive_0001_extract\\2011_09_26\\2011_09_26_drive_0001_extract\\image_02\\data\\0000000044.png\n",
      "D:\\2011_09_26_drive_0001_extract\\2011_09_26\\2011_09_26_drive_0001_extract\\image_02\\data\\0000000045.png\n",
      "D:\\2011_09_26_drive_0001_extract\\2011_09_26\\2011_09_26_drive_0001_extract\\image_02\\data\\0000000046.png\n",
      "D:\\2011_09_26_drive_0001_extract\\2011_09_26\\2011_09_26_drive_0001_extract\\image_02\\data\\0000000047.png\n",
      "D:\\2011_09_26_drive_0001_extract\\2011_09_26\\2011_09_26_drive_0001_extract\\image_02\\data\\0000000048.png\n",
      "D:\\2011_09_26_drive_0001_extract\\2011_09_26\\2011_09_26_drive_0001_extract\\image_02\\data\\0000000049.png\n",
      "D:\\2011_09_26_drive_0001_extract\\2011_09_26\\2011_09_26_drive_0001_extract\\image_02\\data\\0000000050.png\n",
      "D:\\2011_09_26_drive_0001_extract\\2011_09_26\\2011_09_26_drive_0001_extract\\image_02\\data\\0000000051.png\n",
      "D:\\2011_09_26_drive_0001_extract\\2011_09_26\\2011_09_26_drive_0001_extract\\image_02\\data\\0000000052.png\n",
      "D:\\2011_09_26_drive_0001_extract\\2011_09_26\\2011_09_26_drive_0001_extract\\image_02\\data\\0000000053.png\n",
      "D:\\2011_09_26_drive_0001_extract\\2011_09_26\\2011_09_26_drive_0001_extract\\image_02\\data\\0000000054.png\n",
      "D:\\2011_09_26_drive_0001_extract\\2011_09_26\\2011_09_26_drive_0001_extract\\image_02\\data\\0000000055.png\n",
      "D:\\2011_09_26_drive_0001_extract\\2011_09_26\\2011_09_26_drive_0001_extract\\image_02\\data\\0000000056.png\n",
      "D:\\2011_09_26_drive_0001_extract\\2011_09_26\\2011_09_26_drive_0001_extract\\image_02\\data\\0000000057.png\n",
      "D:\\2011_09_26_drive_0001_extract\\2011_09_26\\2011_09_26_drive_0001_extract\\image_02\\data\\0000000058.png\n",
      "D:\\2011_09_26_drive_0001_extract\\2011_09_26\\2011_09_26_drive_0001_extract\\image_02\\data\\0000000059.png\n",
      "D:\\2011_09_26_drive_0001_extract\\2011_09_26\\2011_09_26_drive_0001_extract\\image_02\\data\\0000000060.png\n",
      "D:\\2011_09_26_drive_0001_extract\\2011_09_26\\2011_09_26_drive_0001_extract\\image_02\\data\\0000000061.png\n",
      "D:\\2011_09_26_drive_0001_extract\\2011_09_26\\2011_09_26_drive_0001_extract\\image_02\\data\\0000000062.png\n",
      "D:\\2011_09_26_drive_0001_extract\\2011_09_26\\2011_09_26_drive_0001_extract\\image_02\\data\\0000000063.png\n",
      "D:\\2011_09_26_drive_0001_extract\\2011_09_26\\2011_09_26_drive_0001_extract\\image_02\\data\\0000000064.png\n",
      "D:\\2011_09_26_drive_0001_extract\\2011_09_26\\2011_09_26_drive_0001_extract\\image_02\\data\\0000000065.png\n",
      "D:\\2011_09_26_drive_0001_extract\\2011_09_26\\2011_09_26_drive_0001_extract\\image_02\\data\\0000000066.png\n",
      "D:\\2011_09_26_drive_0001_extract\\2011_09_26\\2011_09_26_drive_0001_extract\\image_02\\data\\0000000067.png\n",
      "D:\\2011_09_26_drive_0001_extract\\2011_09_26\\2011_09_26_drive_0001_extract\\image_02\\data\\0000000068.png\n",
      "D:\\2011_09_26_drive_0001_extract\\2011_09_26\\2011_09_26_drive_0001_extract\\image_02\\data\\0000000069.png\n",
      "D:\\2011_09_26_drive_0001_extract\\2011_09_26\\2011_09_26_drive_0001_extract\\image_02\\data\\0000000070.png\n",
      "D:\\2011_09_26_drive_0001_extract\\2011_09_26\\2011_09_26_drive_0001_extract\\image_02\\data\\0000000071.png\n",
      "D:\\2011_09_26_drive_0001_extract\\2011_09_26\\2011_09_26_drive_0001_extract\\image_02\\data\\0000000072.png\n",
      "D:\\2011_09_26_drive_0001_extract\\2011_09_26\\2011_09_26_drive_0001_extract\\image_02\\data\\0000000073.png\n",
      "D:\\2011_09_26_drive_0001_extract\\2011_09_26\\2011_09_26_drive_0001_extract\\image_02\\data\\0000000074.png\n",
      "D:\\2011_09_26_drive_0001_extract\\2011_09_26\\2011_09_26_drive_0001_extract\\image_02\\data\\0000000075.png\n",
      "D:\\2011_09_26_drive_0001_extract\\2011_09_26\\2011_09_26_drive_0001_extract\\image_02\\data\\0000000076.png\n",
      "D:\\2011_09_26_drive_0001_extract\\2011_09_26\\2011_09_26_drive_0001_extract\\image_02\\data\\0000000077.png\n",
      "D:\\2011_09_26_drive_0001_extract\\2011_09_26\\2011_09_26_drive_0001_extract\\image_02\\data\\0000000078.png\n",
      "D:\\2011_09_26_drive_0001_extract\\2011_09_26\\2011_09_26_drive_0001_extract\\image_02\\data\\0000000079.png\n"
     ]
    },
    {
     "name": "stdout",
     "output_type": "stream",
     "text": [
      "D:\\2011_09_26_drive_0001_extract\\2011_09_26\\2011_09_26_drive_0001_extract\\image_02\\data\\0000000080.png\n",
      "D:\\2011_09_26_drive_0001_extract\\2011_09_26\\2011_09_26_drive_0001_extract\\image_02\\data\\0000000081.png\n",
      "D:\\2011_09_26_drive_0001_extract\\2011_09_26\\2011_09_26_drive_0001_extract\\image_02\\data\\0000000082.png\n",
      "D:\\2011_09_26_drive_0001_extract\\2011_09_26\\2011_09_26_drive_0001_extract\\image_02\\data\\0000000083.png\n",
      "D:\\2011_09_26_drive_0001_extract\\2011_09_26\\2011_09_26_drive_0001_extract\\image_02\\data\\0000000084.png\n",
      "D:\\2011_09_26_drive_0001_extract\\2011_09_26\\2011_09_26_drive_0001_extract\\image_02\\data\\0000000085.png\n",
      "D:\\2011_09_26_drive_0001_extract\\2011_09_26\\2011_09_26_drive_0001_extract\\image_02\\data\\0000000086.png\n",
      "D:\\2011_09_26_drive_0001_extract\\2011_09_26\\2011_09_26_drive_0001_extract\\image_02\\data\\0000000087.png\n",
      "D:\\2011_09_26_drive_0001_extract\\2011_09_26\\2011_09_26_drive_0001_extract\\image_02\\data\\0000000088.png\n",
      "D:\\2011_09_26_drive_0001_extract\\2011_09_26\\2011_09_26_drive_0001_extract\\image_02\\data\\0000000089.png\n",
      "D:\\2011_09_26_drive_0001_extract\\2011_09_26\\2011_09_26_drive_0001_extract\\image_02\\data\\0000000090.png\n",
      "D:\\2011_09_26_drive_0001_extract\\2011_09_26\\2011_09_26_drive_0001_extract\\image_02\\data\\0000000091.png\n",
      "D:\\2011_09_26_drive_0001_extract\\2011_09_26\\2011_09_26_drive_0001_extract\\image_02\\data\\0000000092.png\n",
      "D:\\2011_09_26_drive_0001_extract\\2011_09_26\\2011_09_26_drive_0001_extract\\image_02\\data\\0000000093.png\n",
      "D:\\2011_09_26_drive_0001_extract\\2011_09_26\\2011_09_26_drive_0001_extract\\image_02\\data\\0000000094.png\n",
      "D:\\2011_09_26_drive_0001_extract\\2011_09_26\\2011_09_26_drive_0001_extract\\image_02\\data\\0000000095.png\n",
      "D:\\2011_09_26_drive_0001_extract\\2011_09_26\\2011_09_26_drive_0001_extract\\image_02\\data\\0000000096.png\n",
      "D:\\2011_09_26_drive_0001_extract\\2011_09_26\\2011_09_26_drive_0001_extract\\image_02\\data\\0000000097.png\n",
      "D:\\2011_09_26_drive_0001_extract\\2011_09_26\\2011_09_26_drive_0001_extract\\image_02\\data\\0000000098.png\n",
      "D:\\2011_09_26_drive_0001_extract\\2011_09_26\\2011_09_26_drive_0001_extract\\image_02\\data\\0000000099.png\n",
      "D:\\2011_09_26_drive_0001_extract\\2011_09_26\\2011_09_26_drive_0001_extract\\image_02\\data\\0000000100.png\n",
      "D:\\2011_09_26_drive_0001_extract\\2011_09_26\\2011_09_26_drive_0001_extract\\image_02\\data\\0000000101.png\n",
      "D:\\2011_09_26_drive_0001_extract\\2011_09_26\\2011_09_26_drive_0001_extract\\image_02\\data\\0000000102.png\n",
      "D:\\2011_09_26_drive_0001_extract\\2011_09_26\\2011_09_26_drive_0001_extract\\image_02\\data\\0000000103.png\n",
      "D:\\2011_09_26_drive_0001_extract\\2011_09_26\\2011_09_26_drive_0001_extract\\image_02\\data\\0000000104.png\n",
      "D:\\2011_09_26_drive_0001_extract\\2011_09_26\\2011_09_26_drive_0001_extract\\image_02\\data\\0000000105.png\n",
      "D:\\2011_09_26_drive_0001_extract\\2011_09_26\\2011_09_26_drive_0001_extract\\image_02\\data\\0000000106.png\n",
      "D:\\2011_09_26_drive_0001_extract\\2011_09_26\\2011_09_26_drive_0001_extract\\image_02\\data\\0000000107.png\n",
      "D:\\2011_09_26_drive_0001_extract\\2011_09_26\\2011_09_26_drive_0001_extract\\image_02\\data\\0000000108.png\n",
      "D:\\2011_09_26_drive_0001_extract\\2011_09_26\\2011_09_26_drive_0001_extract\\image_02\\data\\0000000109.png\n",
      "D:\\2011_09_26_drive_0001_extract\\2011_09_26\\2011_09_26_drive_0001_extract\\image_02\\data\\0000000110.png\n",
      "D:\\2011_09_26_drive_0001_extract\\2011_09_26\\2011_09_26_drive_0001_extract\\image_02\\data\\0000000111.png\n",
      "D:\\2011_09_26_drive_0001_extract\\2011_09_26\\2011_09_26_drive_0001_extract\\image_02\\data\\0000000112.png\n",
      "D:\\2011_09_26_drive_0001_extract\\2011_09_26\\2011_09_26_drive_0001_extract\\image_02\\data\\0000000113.png\n"
     ]
    }
   ],
   "source": [
    "fps = 25\n",
    "pathOut = new_file_path + \"video.avi\"\n",
    "convert_frames_to_video(new_file_path,pathOut , fps)"
   ]
  },
  {
   "cell_type": "code",
   "execution_count": 12,
   "metadata": {},
   "outputs": [],
   "source": [
    "import pandas as pd"
   ]
  },
  {
   "cell_type": "code",
   "execution_count": 24,
   "metadata": {},
   "outputs": [],
   "source": [
    "time_stamp_file_path = \"D:\\\\2011_09_26_drive_0001_extract\\\\2011_09_26\\\\2011_09_26_drive_0001_extract\\\\image_03\\\\timestamps.txt\"\n",
    "df = pd.read_table(time_stamp_file_path)"
   ]
  },
  {
   "cell_type": "code",
   "execution_count": 25,
   "metadata": {},
   "outputs": [
    {
     "data": {
      "text/html": [
       "<div>\n",
       "<style scoped>\n",
       "    .dataframe tbody tr th:only-of-type {\n",
       "        vertical-align: middle;\n",
       "    }\n",
       "\n",
       "    .dataframe tbody tr th {\n",
       "        vertical-align: top;\n",
       "    }\n",
       "\n",
       "    .dataframe thead th {\n",
       "        text-align: right;\n",
       "    }\n",
       "</style>\n",
       "<table border=\"1\" class=\"dataframe\">\n",
       "  <thead>\n",
       "    <tr style=\"text-align: right;\">\n",
       "      <th></th>\n",
       "      <th>2011-09-26 13:02:25.445761280</th>\n",
       "    </tr>\n",
       "  </thead>\n",
       "  <tbody>\n",
       "    <tr>\n",
       "      <th>0</th>\n",
       "      <td>2011-09-26 13:02:25.548891904</td>\n",
       "    </tr>\n",
       "    <tr>\n",
       "      <th>1</th>\n",
       "      <td>2011-09-26 13:02:25.651908608</td>\n",
       "    </tr>\n",
       "    <tr>\n",
       "      <th>2</th>\n",
       "      <td>2011-09-26 13:02:25.755030016</td>\n",
       "    </tr>\n",
       "    <tr>\n",
       "      <th>3</th>\n",
       "      <td>2011-09-26 13:02:25.858035712</td>\n",
       "    </tr>\n",
       "    <tr>\n",
       "      <th>4</th>\n",
       "      <td>2011-09-26 13:02:25.961178112</td>\n",
       "    </tr>\n",
       "  </tbody>\n",
       "</table>\n",
       "</div>"
      ],
      "text/plain": [
       "   2011-09-26 13:02:25.445761280\n",
       "0  2011-09-26 13:02:25.548891904\n",
       "1  2011-09-26 13:02:25.651908608\n",
       "2  2011-09-26 13:02:25.755030016\n",
       "3  2011-09-26 13:02:25.858035712\n",
       "4  2011-09-26 13:02:25.961178112"
      ]
     },
     "execution_count": 25,
     "metadata": {},
     "output_type": "execute_result"
    }
   ],
   "source": [
    "df.head()"
   ]
  },
  {
   "cell_type": "code",
   "execution_count": 26,
   "metadata": {},
   "outputs": [],
   "source": [
    "df['date'], df['timestamps'] = df['2011-09-26 13:02:25.445761280'].str.split(' ', 1).str"
   ]
  },
  {
   "cell_type": "code",
   "execution_count": 168,
   "metadata": {},
   "outputs": [
    {
     "ename": "KeyError",
     "evalue": "0",
     "output_type": "error",
     "traceback": [
      "\u001b[1;31m---------------------------------------------------------------------------\u001b[0m",
      "\u001b[1;31mKeyError\u001b[0m                                  Traceback (most recent call last)",
      "\u001b[1;32mC:\\Program Files (x86)\\Microsoft Visual Studio\\Shared\\Anaconda3_64\\lib\\site-packages\\pandas\\core\\indexes\\base.py\u001b[0m in \u001b[0;36mget_loc\u001b[1;34m(self, key, method, tolerance)\u001b[0m\n\u001b[0;32m   2524\u001b[0m             \u001b[1;32mtry\u001b[0m\u001b[1;33m:\u001b[0m\u001b[1;33m\u001b[0m\u001b[0m\n\u001b[1;32m-> 2525\u001b[1;33m                 \u001b[1;32mreturn\u001b[0m \u001b[0mself\u001b[0m\u001b[1;33m.\u001b[0m\u001b[0m_engine\u001b[0m\u001b[1;33m.\u001b[0m\u001b[0mget_loc\u001b[0m\u001b[1;33m(\u001b[0m\u001b[0mkey\u001b[0m\u001b[1;33m)\u001b[0m\u001b[1;33m\u001b[0m\u001b[0m\n\u001b[0m\u001b[0;32m   2526\u001b[0m             \u001b[1;32mexcept\u001b[0m \u001b[0mKeyError\u001b[0m\u001b[1;33m:\u001b[0m\u001b[1;33m\u001b[0m\u001b[0m\n",
      "\u001b[1;32mpandas/_libs/index.pyx\u001b[0m in \u001b[0;36mpandas._libs.index.IndexEngine.get_loc\u001b[1;34m()\u001b[0m\n",
      "\u001b[1;32mpandas/_libs/index.pyx\u001b[0m in \u001b[0;36mpandas._libs.index.IndexEngine.get_loc\u001b[1;34m()\u001b[0m\n",
      "\u001b[1;32mpandas/_libs/hashtable_class_helper.pxi\u001b[0m in \u001b[0;36mpandas._libs.hashtable.PyObjectHashTable.get_item\u001b[1;34m()\u001b[0m\n",
      "\u001b[1;32mpandas/_libs/hashtable_class_helper.pxi\u001b[0m in \u001b[0;36mpandas._libs.hashtable.PyObjectHashTable.get_item\u001b[1;34m()\u001b[0m\n",
      "\u001b[1;31mKeyError\u001b[0m: 0",
      "\nDuring handling of the above exception, another exception occurred:\n",
      "\u001b[1;31mKeyError\u001b[0m                                  Traceback (most recent call last)",
      "\u001b[1;32m<ipython-input-168-ad11118bc8f3>\u001b[0m in \u001b[0;36m<module>\u001b[1;34m()\u001b[0m\n\u001b[1;32m----> 1\u001b[1;33m \u001b[0mdf\u001b[0m\u001b[1;33m[\u001b[0m\u001b[1;36m0\u001b[0m\u001b[1;33m]\u001b[0m\u001b[1;33m\u001b[0m\u001b[0m\n\u001b[0m",
      "\u001b[1;32mC:\\Program Files (x86)\\Microsoft Visual Studio\\Shared\\Anaconda3_64\\lib\\site-packages\\pandas\\core\\frame.py\u001b[0m in \u001b[0;36m__getitem__\u001b[1;34m(self, key)\u001b[0m\n\u001b[0;32m   2137\u001b[0m             \u001b[1;32mreturn\u001b[0m \u001b[0mself\u001b[0m\u001b[1;33m.\u001b[0m\u001b[0m_getitem_multilevel\u001b[0m\u001b[1;33m(\u001b[0m\u001b[0mkey\u001b[0m\u001b[1;33m)\u001b[0m\u001b[1;33m\u001b[0m\u001b[0m\n\u001b[0;32m   2138\u001b[0m         \u001b[1;32melse\u001b[0m\u001b[1;33m:\u001b[0m\u001b[1;33m\u001b[0m\u001b[0m\n\u001b[1;32m-> 2139\u001b[1;33m             \u001b[1;32mreturn\u001b[0m \u001b[0mself\u001b[0m\u001b[1;33m.\u001b[0m\u001b[0m_getitem_column\u001b[0m\u001b[1;33m(\u001b[0m\u001b[0mkey\u001b[0m\u001b[1;33m)\u001b[0m\u001b[1;33m\u001b[0m\u001b[0m\n\u001b[0m\u001b[0;32m   2140\u001b[0m \u001b[1;33m\u001b[0m\u001b[0m\n\u001b[0;32m   2141\u001b[0m     \u001b[1;32mdef\u001b[0m \u001b[0m_getitem_column\u001b[0m\u001b[1;33m(\u001b[0m\u001b[0mself\u001b[0m\u001b[1;33m,\u001b[0m \u001b[0mkey\u001b[0m\u001b[1;33m)\u001b[0m\u001b[1;33m:\u001b[0m\u001b[1;33m\u001b[0m\u001b[0m\n",
      "\u001b[1;32mC:\\Program Files (x86)\\Microsoft Visual Studio\\Shared\\Anaconda3_64\\lib\\site-packages\\pandas\\core\\frame.py\u001b[0m in \u001b[0;36m_getitem_column\u001b[1;34m(self, key)\u001b[0m\n\u001b[0;32m   2144\u001b[0m         \u001b[1;31m# get column\u001b[0m\u001b[1;33m\u001b[0m\u001b[1;33m\u001b[0m\u001b[0m\n\u001b[0;32m   2145\u001b[0m         \u001b[1;32mif\u001b[0m \u001b[0mself\u001b[0m\u001b[1;33m.\u001b[0m\u001b[0mcolumns\u001b[0m\u001b[1;33m.\u001b[0m\u001b[0mis_unique\u001b[0m\u001b[1;33m:\u001b[0m\u001b[1;33m\u001b[0m\u001b[0m\n\u001b[1;32m-> 2146\u001b[1;33m             \u001b[1;32mreturn\u001b[0m \u001b[0mself\u001b[0m\u001b[1;33m.\u001b[0m\u001b[0m_get_item_cache\u001b[0m\u001b[1;33m(\u001b[0m\u001b[0mkey\u001b[0m\u001b[1;33m)\u001b[0m\u001b[1;33m\u001b[0m\u001b[0m\n\u001b[0m\u001b[0;32m   2147\u001b[0m \u001b[1;33m\u001b[0m\u001b[0m\n\u001b[0;32m   2148\u001b[0m         \u001b[1;31m# duplicate columns & possible reduce dimensionality\u001b[0m\u001b[1;33m\u001b[0m\u001b[1;33m\u001b[0m\u001b[0m\n",
      "\u001b[1;32mC:\\Program Files (x86)\\Microsoft Visual Studio\\Shared\\Anaconda3_64\\lib\\site-packages\\pandas\\core\\generic.py\u001b[0m in \u001b[0;36m_get_item_cache\u001b[1;34m(self, item)\u001b[0m\n\u001b[0;32m   1840\u001b[0m         \u001b[0mres\u001b[0m \u001b[1;33m=\u001b[0m \u001b[0mcache\u001b[0m\u001b[1;33m.\u001b[0m\u001b[0mget\u001b[0m\u001b[1;33m(\u001b[0m\u001b[0mitem\u001b[0m\u001b[1;33m)\u001b[0m\u001b[1;33m\u001b[0m\u001b[0m\n\u001b[0;32m   1841\u001b[0m         \u001b[1;32mif\u001b[0m \u001b[0mres\u001b[0m \u001b[1;32mis\u001b[0m \u001b[1;32mNone\u001b[0m\u001b[1;33m:\u001b[0m\u001b[1;33m\u001b[0m\u001b[0m\n\u001b[1;32m-> 1842\u001b[1;33m             \u001b[0mvalues\u001b[0m \u001b[1;33m=\u001b[0m \u001b[0mself\u001b[0m\u001b[1;33m.\u001b[0m\u001b[0m_data\u001b[0m\u001b[1;33m.\u001b[0m\u001b[0mget\u001b[0m\u001b[1;33m(\u001b[0m\u001b[0mitem\u001b[0m\u001b[1;33m)\u001b[0m\u001b[1;33m\u001b[0m\u001b[0m\n\u001b[0m\u001b[0;32m   1843\u001b[0m             \u001b[0mres\u001b[0m \u001b[1;33m=\u001b[0m \u001b[0mself\u001b[0m\u001b[1;33m.\u001b[0m\u001b[0m_box_item_values\u001b[0m\u001b[1;33m(\u001b[0m\u001b[0mitem\u001b[0m\u001b[1;33m,\u001b[0m \u001b[0mvalues\u001b[0m\u001b[1;33m)\u001b[0m\u001b[1;33m\u001b[0m\u001b[0m\n\u001b[0;32m   1844\u001b[0m             \u001b[0mcache\u001b[0m\u001b[1;33m[\u001b[0m\u001b[0mitem\u001b[0m\u001b[1;33m]\u001b[0m \u001b[1;33m=\u001b[0m \u001b[0mres\u001b[0m\u001b[1;33m\u001b[0m\u001b[0m\n",
      "\u001b[1;32mC:\\Program Files (x86)\\Microsoft Visual Studio\\Shared\\Anaconda3_64\\lib\\site-packages\\pandas\\core\\internals.py\u001b[0m in \u001b[0;36mget\u001b[1;34m(self, item, fastpath)\u001b[0m\n\u001b[0;32m   3841\u001b[0m \u001b[1;33m\u001b[0m\u001b[0m\n\u001b[0;32m   3842\u001b[0m             \u001b[1;32mif\u001b[0m \u001b[1;32mnot\u001b[0m \u001b[0misna\u001b[0m\u001b[1;33m(\u001b[0m\u001b[0mitem\u001b[0m\u001b[1;33m)\u001b[0m\u001b[1;33m:\u001b[0m\u001b[1;33m\u001b[0m\u001b[0m\n\u001b[1;32m-> 3843\u001b[1;33m                 \u001b[0mloc\u001b[0m \u001b[1;33m=\u001b[0m \u001b[0mself\u001b[0m\u001b[1;33m.\u001b[0m\u001b[0mitems\u001b[0m\u001b[1;33m.\u001b[0m\u001b[0mget_loc\u001b[0m\u001b[1;33m(\u001b[0m\u001b[0mitem\u001b[0m\u001b[1;33m)\u001b[0m\u001b[1;33m\u001b[0m\u001b[0m\n\u001b[0m\u001b[0;32m   3844\u001b[0m             \u001b[1;32melse\u001b[0m\u001b[1;33m:\u001b[0m\u001b[1;33m\u001b[0m\u001b[0m\n\u001b[0;32m   3845\u001b[0m                 \u001b[0mindexer\u001b[0m \u001b[1;33m=\u001b[0m \u001b[0mnp\u001b[0m\u001b[1;33m.\u001b[0m\u001b[0marange\u001b[0m\u001b[1;33m(\u001b[0m\u001b[0mlen\u001b[0m\u001b[1;33m(\u001b[0m\u001b[0mself\u001b[0m\u001b[1;33m.\u001b[0m\u001b[0mitems\u001b[0m\u001b[1;33m)\u001b[0m\u001b[1;33m)\u001b[0m\u001b[1;33m[\u001b[0m\u001b[0misna\u001b[0m\u001b[1;33m(\u001b[0m\u001b[0mself\u001b[0m\u001b[1;33m.\u001b[0m\u001b[0mitems\u001b[0m\u001b[1;33m)\u001b[0m\u001b[1;33m]\u001b[0m\u001b[1;33m\u001b[0m\u001b[0m\n",
      "\u001b[1;32mC:\\Program Files (x86)\\Microsoft Visual Studio\\Shared\\Anaconda3_64\\lib\\site-packages\\pandas\\core\\indexes\\base.py\u001b[0m in \u001b[0;36mget_loc\u001b[1;34m(self, key, method, tolerance)\u001b[0m\n\u001b[0;32m   2525\u001b[0m                 \u001b[1;32mreturn\u001b[0m \u001b[0mself\u001b[0m\u001b[1;33m.\u001b[0m\u001b[0m_engine\u001b[0m\u001b[1;33m.\u001b[0m\u001b[0mget_loc\u001b[0m\u001b[1;33m(\u001b[0m\u001b[0mkey\u001b[0m\u001b[1;33m)\u001b[0m\u001b[1;33m\u001b[0m\u001b[0m\n\u001b[0;32m   2526\u001b[0m             \u001b[1;32mexcept\u001b[0m \u001b[0mKeyError\u001b[0m\u001b[1;33m:\u001b[0m\u001b[1;33m\u001b[0m\u001b[0m\n\u001b[1;32m-> 2527\u001b[1;33m                 \u001b[1;32mreturn\u001b[0m \u001b[0mself\u001b[0m\u001b[1;33m.\u001b[0m\u001b[0m_engine\u001b[0m\u001b[1;33m.\u001b[0m\u001b[0mget_loc\u001b[0m\u001b[1;33m(\u001b[0m\u001b[0mself\u001b[0m\u001b[1;33m.\u001b[0m\u001b[0m_maybe_cast_indexer\u001b[0m\u001b[1;33m(\u001b[0m\u001b[0mkey\u001b[0m\u001b[1;33m)\u001b[0m\u001b[1;33m)\u001b[0m\u001b[1;33m\u001b[0m\u001b[0m\n\u001b[0m\u001b[0;32m   2528\u001b[0m \u001b[1;33m\u001b[0m\u001b[0m\n\u001b[0;32m   2529\u001b[0m         \u001b[0mindexer\u001b[0m \u001b[1;33m=\u001b[0m \u001b[0mself\u001b[0m\u001b[1;33m.\u001b[0m\u001b[0mget_indexer\u001b[0m\u001b[1;33m(\u001b[0m\u001b[1;33m[\u001b[0m\u001b[0mkey\u001b[0m\u001b[1;33m]\u001b[0m\u001b[1;33m,\u001b[0m \u001b[0mmethod\u001b[0m\u001b[1;33m=\u001b[0m\u001b[0mmethod\u001b[0m\u001b[1;33m,\u001b[0m \u001b[0mtolerance\u001b[0m\u001b[1;33m=\u001b[0m\u001b[0mtolerance\u001b[0m\u001b[1;33m)\u001b[0m\u001b[1;33m\u001b[0m\u001b[0m\n",
      "\u001b[1;32mpandas/_libs/index.pyx\u001b[0m in \u001b[0;36mpandas._libs.index.IndexEngine.get_loc\u001b[1;34m()\u001b[0m\n",
      "\u001b[1;32mpandas/_libs/index.pyx\u001b[0m in \u001b[0;36mpandas._libs.index.IndexEngine.get_loc\u001b[1;34m()\u001b[0m\n",
      "\u001b[1;32mpandas/_libs/hashtable_class_helper.pxi\u001b[0m in \u001b[0;36mpandas._libs.hashtable.PyObjectHashTable.get_item\u001b[1;34m()\u001b[0m\n",
      "\u001b[1;32mpandas/_libs/hashtable_class_helper.pxi\u001b[0m in \u001b[0;36mpandas._libs.hashtable.PyObjectHashTable.get_item\u001b[1;34m()\u001b[0m\n",
      "\u001b[1;31mKeyError\u001b[0m: 0"
     ]
    }
   ],
   "source": []
  },
  {
   "cell_type": "code",
   "execution_count": 34,
   "metadata": {},
   "outputs": [],
   "source": [
    "data = []\n",
    "data.insert(0, {'date': '2011-09-26', 'timestamps':'13:02:25.445761280'})"
   ]
  },
  {
   "cell_type": "code",
   "execution_count": 36,
   "metadata": {},
   "outputs": [],
   "source": [
    "#df = df.drop('2011-09-26 13:02:25.445761280', 1)\n",
    "df = pd.concat([pd.DataFrame(data), df], ignore_index=True)"
   ]
  },
  {
   "cell_type": "code",
   "execution_count": 176,
   "metadata": {},
   "outputs": [],
   "source": [
    "timestamps = pd.to_timedelta(df['timestamps'], unit = 's')\n",
    "#print(timestamps)"
   ]
  },
  {
   "cell_type": "code",
   "execution_count": 169,
   "metadata": {},
   "outputs": [],
   "source": [
    "time_stamp_file_path2 = \"D:\\\\2011_09_26_drive_0001_extract\\\\2011_09_26\\\\2011_09_26_drive_0001_extract\\\\velodyne_points\\\\timestamps.txt\"\n",
    "df2 = pd.read_table(time_stamp_file_path2)\n",
    "df2['date'], df2['timestamps'] = df2['2011-09-26 13:02:25.745054743'].str.split(' ', 1).str\n",
    "df2 = df2.drop('2011-09-26 13:02:25.745054743', 1)\n",
    "data2 = []\n",
    "data2.insert(0, {'date': '2011-09-26', 'timestamps':'13:02:25.745054743'})\n",
    "df2 = pd.concat([pd.DataFrame(data2), df2], ignore_index=True)"
   ]
  },
  {
   "cell_type": "code",
   "execution_count": 170,
   "metadata": {},
   "outputs": [],
   "source": [
    "timestamps2 = pd.to_timedelta(df2['timestamps'], unit = 's')"
   ]
  },
  {
   "cell_type": "code",
   "execution_count": 173,
   "metadata": {},
   "outputs": [],
   "source": [
    "difftimestamps = timestamps2 - timestamps"
   ]
  },
  {
   "cell_type": "code",
   "execution_count": 189,
   "metadata": {},
   "outputs": [
    {
     "data": {
      "text/plain": [
       "[<matplotlib.lines.Line2D at 0x1ad9d81f6a0>]"
      ]
     },
     "execution_count": 189,
     "metadata": {},
     "output_type": "execute_result"
    },
    {
     "data": {
      "image/png": "[encoded data removed]",
      "text/plain": [
       "<matplotlib.figure.Figure at 0x1ad9d7a3208>"
      ]
     },
     "metadata": {},
     "output_type": "display_data"
    }
   ],
   "source": [
    "plt.plot(difftimestamps[:100].values)"
   ]
  },
  {
   "cell_type": "code",
   "execution_count": 146,
   "metadata": {},
   "outputs": [],
   "source": [
    "newsy_time_stamp_file_path = \"D:\\\\2011_09_26_drive_0001_sync\\\\2011_09_26\\\\2011_09_26_drive_0001_sync\\\\image_02\\\\timestamps.txt\"\n",
    "df3 = pd.read_table(newsy_time_stamp_file_path)"
   ]
  },
  {
   "cell_type": "code",
   "execution_count": 147,
   "metadata": {},
   "outputs": [],
   "source": [
    "df3['date'], df3['timestamps'] = df3['2011-09-26 13:02:25.961661696'].str.split(' ', 1).str\n",
    "df3 = df3.drop('2011-09-26 13:02:25.961661696', 1)\n",
    "data3 = []\n",
    "data3.insert(0, {'date': '2011-09-26', 'timestamps':'13:02:25.961661696'})\n",
    "df3 = pd.concat([pd.DataFrame(data3), df3], ignore_index=True)"
   ]
  },
  {
   "cell_type": "code",
   "execution_count": 148,
   "metadata": {},
   "outputs": [
    {
     "data": {
      "text/html": [
       "<div>\n",
       "<style scoped>\n",
       "    .dataframe tbody tr th:only-of-type {\n",
       "        vertical-align: middle;\n",
       "    }\n",
       "\n",
       "    .dataframe tbody tr th {\n",
       "        vertical-align: top;\n",
       "    }\n",
       "\n",
       "    .dataframe thead th {\n",
       "        text-align: right;\n",
       "    }\n",
       "</style>\n",
       "<table border=\"1\" class=\"dataframe\">\n",
       "  <thead>\n",
       "    <tr style=\"text-align: right;\">\n",
       "      <th></th>\n",
       "      <th>date</th>\n",
       "      <th>timestamps</th>\n",
       "    </tr>\n",
       "  </thead>\n",
       "  <tbody>\n",
       "    <tr>\n",
       "      <th>0</th>\n",
       "      <td>2011-09-26</td>\n",
       "      <td>13:02:25.961661696</td>\n",
       "    </tr>\n",
       "    <tr>\n",
       "      <th>1</th>\n",
       "      <td>2011-09-26</td>\n",
       "      <td>13:02:26.064785152</td>\n",
       "    </tr>\n",
       "    <tr>\n",
       "      <th>2</th>\n",
       "      <td>2011-09-26</td>\n",
       "      <td>13:02:26.167923456</td>\n",
       "    </tr>\n",
       "    <tr>\n",
       "      <th>3</th>\n",
       "      <td>2011-09-26</td>\n",
       "      <td>13:02:26.270924032</td>\n",
       "    </tr>\n",
       "    <tr>\n",
       "      <th>4</th>\n",
       "      <td>2011-09-26</td>\n",
       "      <td>13:02:26.374087680</td>\n",
       "    </tr>\n",
       "  </tbody>\n",
       "</table>\n",
       "</div>"
      ],
      "text/plain": [
       "         date          timestamps\n",
       "0  2011-09-26  13:02:25.961661696\n",
       "1  2011-09-26  13:02:26.064785152\n",
       "2  2011-09-26  13:02:26.167923456\n",
       "3  2011-09-26  13:02:26.270924032\n",
       "4  2011-09-26  13:02:26.374087680"
      ]
     },
     "execution_count": 148,
     "metadata": {},
     "output_type": "execute_result"
    }
   ],
   "source": [
    "df3.head()"
   ]
  },
  {
   "cell_type": "code",
   "execution_count": 149,
   "metadata": {},
   "outputs": [],
   "source": [
    "timestamps3 = pd.to_timedelta(df3['timestamps'], unit = 's')"
   ]
  },
  {
   "cell_type": "code",
   "execution_count": 177,
   "metadata": {},
   "outputs": [],
   "source": [
    "news_time_stamp_file_path = \"D:\\\\2011_09_26_drive_0001_sync\\\\2011_09_26\\\\2011_09_26_drive_0001_sync\\\\velodyne_points\\\\timestamps.txt\"\n",
    "df4 = pd.read_table(news_time_stamp_file_path)"
   ]
  },
  {
   "cell_type": "code",
   "execution_count": 178,
   "metadata": {},
   "outputs": [],
   "source": [
    "df4['date'], df4['timestamps'] = df4['2011-09-26 13:02:25.951199337'].str.split(' ', 1).str\n",
    "df4 = df4.drop('2011-09-26 13:02:25.951199337', 1)\n",
    "data4 = []\n",
    "data4.insert(0, {'date': '2011-09-26', 'timestamps':'13:02:25.951199337'})\n",
    "df4 = pd.concat([pd.DataFrame(data4), df4], ignore_index=True)"
   ]
  },
  {
   "cell_type": "code",
   "execution_count": 179,
   "metadata": {},
   "outputs": [
    {
     "data": {
      "text/html": [
       "<div>\n",
       "<style scoped>\n",
       "    .dataframe tbody tr th:only-of-type {\n",
       "        vertical-align: middle;\n",
       "    }\n",
       "\n",
       "    .dataframe tbody tr th {\n",
       "        vertical-align: top;\n",
       "    }\n",
       "\n",
       "    .dataframe thead th {\n",
       "        text-align: right;\n",
       "    }\n",
       "</style>\n",
       "<table border=\"1\" class=\"dataframe\">\n",
       "  <thead>\n",
       "    <tr style=\"text-align: right;\">\n",
       "      <th></th>\n",
       "      <th>date</th>\n",
       "      <th>timestamps</th>\n",
       "    </tr>\n",
       "  </thead>\n",
       "  <tbody>\n",
       "    <tr>\n",
       "      <th>0</th>\n",
       "      <td>2011-09-26</td>\n",
       "      <td>13:02:25.951199337</td>\n",
       "    </tr>\n",
       "    <tr>\n",
       "      <th>1</th>\n",
       "      <td>2011-09-26</td>\n",
       "      <td>13:02:26.054281661</td>\n",
       "    </tr>\n",
       "    <tr>\n",
       "      <th>2</th>\n",
       "      <td>2011-09-26</td>\n",
       "      <td>13:02:26.157358891</td>\n",
       "    </tr>\n",
       "    <tr>\n",
       "      <th>3</th>\n",
       "      <td>2011-09-26</td>\n",
       "      <td>13:02:26.260450684</td>\n",
       "    </tr>\n",
       "    <tr>\n",
       "      <th>4</th>\n",
       "      <td>2011-09-26</td>\n",
       "      <td>13:02:26.363515608</td>\n",
       "    </tr>\n",
       "  </tbody>\n",
       "</table>\n",
       "</div>"
      ],
      "text/plain": [
       "         date          timestamps\n",
       "0  2011-09-26  13:02:25.951199337\n",
       "1  2011-09-26  13:02:26.054281661\n",
       "2  2011-09-26  13:02:26.157358891\n",
       "3  2011-09-26  13:02:26.260450684\n",
       "4  2011-09-26  13:02:26.363515608"
      ]
     },
     "execution_count": 179,
     "metadata": {},
     "output_type": "execute_result"
    }
   ],
   "source": [
    "df4.head()"
   ]
  },
  {
   "cell_type": "code",
   "execution_count": 180,
   "metadata": {},
   "outputs": [],
   "source": [
    "timestamps4 = pd.to_timedelta(df4['timestamps'], unit = 's')"
   ]
  },
  {
   "cell_type": "code",
   "execution_count": 181,
   "metadata": {},
   "outputs": [],
   "source": [
    "difftimestamps2 = timestamps3 - timestamps4"
   ]
  },
  {
   "cell_type": "code",
   "execution_count": 186,
   "metadata": {
    "scrolled": true
   },
   "outputs": [
    {
     "data": {
      "text/plain": [
       "[<matplotlib.lines.Line2D at 0x1ad9d76a4e0>]"
      ]
     },
     "execution_count": 186,
     "metadata": {},
     "output_type": "execute_result"
    },
    {
     "data": {
      "image/png": "[encoded data removed]",
      "text/plain": [
       "<matplotlib.figure.Figure at 0x1ad9dfa7128>"
      ]
     },
     "metadata": {},
     "output_type": "display_data"
    }
   ],
   "source": [
    "plt.plot(difftimestamps2[1:].values)"
   ]
  },
  {
   "cell_type": "code",
   "execution_count": 187,
   "metadata": {},
   "outputs": [],
   "source": [
    "diffdiff = difftimestamps - difftimestamps2"
   ]
  },
  {
   "cell_type": "code",
   "execution_count": 188,
   "metadata": {},
   "outputs": [
    {
     "data": {
      "text/plain": [
       "[<matplotlib.lines.Line2D at 0x1ad9d7c45f8>]"
      ]
     },
     "execution_count": 188,
     "metadata": {},
     "output_type": "execute_result"
    },
    {
     "data": {
      "image/png": "[encoded data removed]",
      "text/plain": [
       "<matplotlib.figure.Figure at 0x1ad9d773198>"
      ]
     },
     "metadata": {},
     "output_type": "display_data"
    }
   ],
   "source": [
    "plt.plot(diffdiff)"
   ]
  },
  {
   "cell_type": "code",
   "execution_count": null,
   "metadata": {},
   "outputs": [],
   "source": []
  }
 ],
 "metadata": {
  "kernelspec": {
   "display_name": "Python 3",
   "language": "python",
   "name": "python3"
  },
  "language_info": {
   "codemirror_mode": {
    "name": "ipython",
    "version": 3
   },
   "file_extension": ".py",
   "mimetype": "text/x-python",
   "name": "python",
   "nbconvert_exporter": "python",
   "pygments_lexer": "ipython3",
   "version": "3.6.4"
  }
 },
 "nbformat": 4,
 "nbformat_minor": 2
}
